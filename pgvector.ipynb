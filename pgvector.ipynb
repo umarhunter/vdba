{
 "cells": [
  {
   "cell_type": "code",
   "execution_count": null,
   "metadata": {},
   "outputs": [],
   "source": [
    "import psycopg\n",
    "from pgvector.psycopg import register_vector\n",
    "from sentence_transformers import SentenceTransformer\n",
    "\n",
    "conn = psycopg.connect(dbname='pgvector_example', autocommit=True)\n",
    "\n",
    "conn.execute('CREATE EXTENSION IF NOT EXISTS vector')\n",
    "register_vector(conn)\n",
    "\n",
    "conn.execute('DROP TABLE IF EXISTS documents')\n",
    "conn.execute('CREATE TABLE documents (id bigserial PRIMARY KEY, content text, embedding vector(384))')\n",
    "\n",
    "model = SentenceTransformer('multi-qa-MiniLM-L6-cos-v1')\n",
    "\n",
    "input = [\n",
    "    'The dog is barking',\n",
    "    'The cat is purring',\n",
    "    'The bear is growling'\n",
    "]\n",
    "embeddings = model.encode(input)\n",
    "for content, embedding in zip(input, embeddings):\n",
    "    conn.execute('INSERT INTO documents (content, embedding) VALUES (%s, %s)', (content, embedding))\n",
    "\n",
    "query = 'forest'\n",
    "query_embedding = model.encode(query)\n",
    "result = conn.execute('SELECT content FROM documents ORDER BY embedding <=> %s LIMIT 5', (query_embedding,)).fetchall()\n",
    "for row in result:\n",
    "    print(row[0])"
   ]
  }
 ],
 "metadata": {
  "language_info": {
   "name": "python"
  }
 },
 "nbformat": 4,
 "nbformat_minor": 2
}
