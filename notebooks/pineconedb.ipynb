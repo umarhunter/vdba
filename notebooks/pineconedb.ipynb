{
 "cells": [
  {
   "cell_type": "code",
   "execution_count": 2,
   "metadata": {},
   "outputs": [],
   "source": [
    "import os\n",
    "from dotenv import load_dotenv\n",
    "from pinecone import Pinecone\n",
    "\n",
    "# Load environment variables from the secrets.env file.\n",
    "load_dotenv(\"../secrets.env\")\n",
    "\n",
    "# Retrieve API keys from environment variables.\n",
    "# openai_api_key = os.getenv(\"OPENAI_API_KEY\")\n",
    "# huggingface_api_key = os.getenv(\"HUGGINGFACE_API_KEY\")\n",
    "pinecone_api_key = os.getenv(\"PINECONE_API_KEY\")\n",
    "pinecone_index_name = os.getenv(\"PINECONE_INDEX_NAME\")\n",
    "\n",
    "pc = Pinecone(api_key=pinecone_api_key)\n",
    "index = pc.Index(pinecone_index_name)"
   ]
  },
  {
   "cell_type": "code",
   "execution_count": 3,
   "metadata": {},
   "outputs": [],
   "source": [
    "data = [\n",
    "    {\"id\": \"1\", \"text\": \"Natural language processing is revolutionizing how we interact with computers\"},\n",
    "    {\"id\": \"2\", \"text\": \"Machine learning algorithms can identify patterns in large datasets\"},\n",
    "\t  {\"id\": \"3\", \"text\": \"Deep learning models have achieved remarkable results in computer vision\"},\n",
    "    {\"id\": \"4\", \"text\": \"Vector embeddings help computers understand semantic relationships between words\"},\n",
    "    {\"id\": \"5\", \"text\": \"Artificial intelligence is transforming industries across the globe\"}\n",
    "]\n",
    "\n",
    "index.upsert_records(\n",
    "\t\t\t\"ns1\",\n",
    "\t\t\tdata\n",
    ")\n",
    "\n",
    "\n",
    "results = index.search_records(\n",
    "    namespace=\"ns1\", \n",
    "    query={\n",
    "        \"inputs\": {\"text\": \"how do computers understand semantics?\"},\n",
    "        \"top_k\": 10\n",
    "    },\n",
    "    fields=[\"category\", \"chunk_text\"]\n",
    ")"
   ]
  },
  {
   "cell_type": "code",
   "execution_count": 4,
   "metadata": {},
   "outputs": [
    {
     "name": "stdout",
     "output_type": "stream",
     "text": [
      "{'result': {'hits': [{'_id': '4', '_score': 0.35589444637298584, 'fields': {}},\n",
      "                     {'_id': '3', '_score': 0.16431011259555817, 'fields': {}},\n",
      "                     {'_id': '1', '_score': 0.15255959331989288, 'fields': {}},\n",
      "                     {'_id': '2', '_score': 0.13362519443035126, 'fields': {}},\n",
      "                     {'_id': '5',\n",
      "                      '_score': 0.027723070234060287,\n",
      "                      'fields': {}}]},\n",
      " 'usage': {'embed_total_tokens': 9, 'read_units': 6}}\n"
     ]
    }
   ],
   "source": [
    "print(results)"
   ]
  },
  {
   "cell_type": "code",
   "execution_count": null,
   "metadata": {},
   "outputs": [
    {
     "ename": "SyntaxError",
     "evalue": "invalid syntax. Maybe you meant '==' or ':=' instead of '='? (421427964.py, line 8)",
     "output_type": "error",
     "traceback": [
      "  \u001b[36mCell\u001b[39m\u001b[36m \u001b[39m\u001b[32mIn[14]\u001b[39m\u001b[32m, line 8\u001b[39m\n\u001b[31m    \u001b[39m\u001b[31mmodel=\"llama-text-embed-v2\",\u001b[39m\n    ^\n\u001b[31mSyntaxError\u001b[39m\u001b[31m:\u001b[39m invalid syntax. Maybe you meant '==' or ':=' instead of '='?\n"
     ]
    }
   ],
   "source": [
    "from pinecone import Pinecone\n",
    "\n",
    "pc = Pinecone(api_key=\"<API_KEY>\")\n",
    "\n",
    "pc.create_index_from_model(\n",
    "\t\tname=\"llama-index\",\n",
    "\t\tembed={\n",
    "\t\t\tmodel=\"llama-text-embed-v2\",\n",
    "\t\t\tfield_map={\n",
    "\t\t\t\t\t\"text\": \"chunk_text\" # Field to embed\n",
    "\t\t\t}\n",
    "\t\t}\n",
    ")\n",
    "\n",
    "index = pc.Index(\"llama-text-index\")\n",
    "\n",
    "data = [\n",
    "    {\"id\": \"1\", \"chunk_text\": \"Natural language processing is revolutionizing how we interact with computers\"},\n",
    "    {\"id\": \"2\", \"chunk_text\": \"Machine learning algorithms can identify patterns in large datasets\"},\n",
    "\t  {\"id\": \"3\", \"chunk_text\": \"Deep learning models have achieved remarkable results in computer vision\"},\n",
    "    {\"id\": \"4\", \"chunk_text\": \"Vector embeddings help computers understand semantic relationships between words\"},\n",
    "    {\"id\": \"5\", \"chunk_text\": \"Artificial intelligence is transforming industries across the globe\"}\n",
    "]\n",
    "\n",
    "index.upsert_records(\n",
    "\t\t\t\"ns1\",\n",
    "\t\t\tdata\n",
    ")\n",
    "\n",
    "response = index.search(\n",
    "\t\tnamespace=\"ns1\",\n",
    "\t\tquery={\n",
    "\t\t\t\t\"inputs\":{\n",
    "\t\t\t\t\t\t\"text\": \"how do computers understand semantics?\"\n",
    "\t\t\t\t},\n",
    "\t\t\t\t\"top_k\": 10\n",
    "\t\t}\n",
    ")\n",
    "for r in response['results']['hits']:\n",
    "    print(f\"ID: {r['id']} | Score: {r['score']:.3f} | Text: {r['fields']['chunk_text']}\")"
   ]
  },
  {
   "cell_type": "code",
   "execution_count": null,
   "metadata": {},
   "outputs": [],
   "source": []
  }
 ],
 "metadata": {
  "kernelspec": {
   "display_name": "Python 3",
   "language": "python",
   "name": "python3"
  },
  "language_info": {
   "codemirror_mode": {
    "name": "ipython",
    "version": 3
   },
   "file_extension": ".py",
   "mimetype": "text/x-python",
   "name": "python",
   "nbconvert_exporter": "python",
   "pygments_lexer": "ipython3",
   "version": "3.12.9"
  }
 },
 "nbformat": 4,
 "nbformat_minor": 2
}
