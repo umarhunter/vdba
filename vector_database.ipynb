{
 "cells": [
  {
   "cell_type": "markdown",
   "metadata": {},
   "source": [
    "#### ChromaDB"
   ]
  },
  {
   "cell_type": "code",
   "execution_count": null,
   "metadata": {},
   "outputs": [],
   "source": []
  },
  {
   "cell_type": "markdown",
   "metadata": {},
   "source": [
    "##### PineconeDB"
   ]
  },
  {
   "cell_type": "code",
   "execution_count": null,
   "metadata": {},
   "outputs": [],
   "source": [
    "from pinecone import Pinecone\n",
    "\n",
    "pc = Pinecone(api_key=\"********-****-****-****-************\")\n",
    "index = pc.Index(\"quickstart\")"
   ]
  },
  {
   "cell_type": "code",
   "execution_count": null,
   "metadata": {},
   "outputs": [],
   "source": [
    "index.upsert(\n",
    "    vectors=[\n",
    "        {\n",
    "            \"id\": \"vec1\", \n",
    "            \"values\": [1.0, 1.5], \n",
    "            \"metadata\": {\"genre\": \"drama\"}\n",
    "        }, {\n",
    "            \"id\": \"vec2\", \n",
    "            \"values\": [2.0, 1.0], \n",
    "            \"metadata\": {\"genre\": \"action\"}\n",
    "        }, {\n",
    "            \"id\": \"vec3\", \n",
    "            \"values\": [0.1, 0.3], \n",
    "            \"metadata\": {\"genre\": \"drama\"}\n",
    "        }, {\n",
    "            \"id\": \"vec4\", \n",
    "            \"values\": [1.0, -2.5], \n",
    "            \"metadata\": {\"genre\": \"action\"}\n",
    "        }\n",
    "    ],\n",
    "    namespace= \"ns1\"\n",
    ")"
   ]
  },
  {
   "cell_type": "code",
   "execution_count": null,
   "metadata": {},
   "outputs": [],
   "source": [
    "response = index.query(\n",
    "    namespace=\"ns1\",\n",
    "    vector=[0.1, 0.3],\n",
    "    top_k=2,\n",
    "    include_values=True,\n",
    "    include_metadata=True,\n",
    "    filter={\"genre\": {\"$eq\": \"action\"}}\n",
    ")\n",
    "    \n",
    "print(response)"
   ]
  },
  {
   "cell_type": "markdown",
   "metadata": {},
   "source": [
    "#### PGVector"
   ]
  },
  {
   "cell_type": "code",
   "execution_count": null,
   "metadata": {},
   "outputs": [],
   "source": []
  },
  {
   "cell_type": "markdown",
   "metadata": {},
   "source": [
    "#### Azure CosmoDB"
   ]
  },
  {
   "cell_type": "code",
   "execution_count": null,
   "metadata": {},
   "outputs": [],
   "source": []
  },
  {
   "cell_type": "markdown",
   "metadata": {},
   "source": [
    "#### Azure Databricks"
   ]
  },
  {
   "cell_type": "code",
   "execution_count": null,
   "metadata": {},
   "outputs": [],
   "source": []
  }
 ],
 "metadata": {
  "kernelspec": {
   "display_name": "Python 3",
   "language": "python",
   "name": "python3"
  },
  "language_info": {
   "name": "python",
   "version": "3.12.8"
  }
 },
 "nbformat": 4,
 "nbformat_minor": 2
}
